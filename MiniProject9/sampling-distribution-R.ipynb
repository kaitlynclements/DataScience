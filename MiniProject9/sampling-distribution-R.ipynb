
#HS April 2025

library(tidyverse)
install.packages("infer")  ## Needed for statistical inference
library(infer)
set.seed(123)

airbnb <- read_csv("listings.csv")
airbnb

airbnb |>
  summarize(
    n =  sum(room_type == "Entire home/apt"),
    proportion = sum(room_type == "Entire home/apt") / nrow(airbnb)
  )
  
sample_1 <- rep_sample_n(tbl = airbnb, size = 40)
airbnb_sample_1 <- summarize(sample_1,
  n = sum(room_type == "Entire home/apt"),
  prop = sum(room_type == "Entire home/apt") / 40
)

airbnb_sample_1


sample_2 <- rep_sample_n(airbnb, size = 40)
airbnb_sample_2 <- summarize(sample_2,
  n = sum(room_type == "Entire home/apt"),
  prop = sum(room_type == "Entire home/apt") / 40
)
airbnb_sample_2


samples <- rep_sample_n(airbnb, size = 40, reps = 20000)
samples

tail(samples)

sample_estimates <- samples |>
  group_by(replicate) |>
  summarize(sample_proportion = sum(room_type == "Entire home/apt") / 40)
sample_estimates

sampling_distribution <- ggplot(sample_estimates, aes(x = sample_proportion)) +
  geom_histogram(color = "lightgrey", bins = 12) +
  labs(x = "Sample proportions", y = "Count") +
  theme(text = element_text(size = 12))
sampling_distribution

sample_estimates |>
  summarize(mean_proportion = mean(sample_proportion))
  
sample_estimates <- samples |>
  group_by(replicate) |>
  summarize(sample_proportion = sum(room_type == "Entire home/apt") / 40)
sample_estimates

tail(sample_estimates)

sampling_distribution <- ggplot(sample_estimates, aes(x = sample_proportion)) +
  geom_histogram(color = "lightgrey", bins = 12) +
  labs(x = "Sample proportions", y = "Count") +
  theme(text = element_text(size = 12))
sampling_distribution

sample_estimates |>
  summarize(mean_proportion = mean(sample_proportion))
  
# Step 1: Convert price to numeric and handle NAs
airbnb$price <- as.numeric(gsub("[^0-9.]", "", airbnb$price))
# Remove rows where price is NA after conversion
airbnb <- airbnb[!is.na(airbnb$price), ]
# Step 2: Optional - Filter extreme outliers (adjust range based on your data)
# For example, keep prices between 0 and 1000 (adjust as needed)
airbnb <- airbnb[airbnb$price > 0 & airbnb$price <= 1000, ]
# Step 3: Create the histogram with better styling
population_distribution <- ggplot(airbnb, aes(x = price)) +
  geom_histogram(binwidth = 10, fill = "skyblue", color = "black", alpha = 0.7) +  # Adjust binwidth, add fill color
  labs(x = "Price per Night (Dollars)", y = "Count") +
  theme_minimal() +  # Use a cleaner theme
  theme(
    text = element_text(size = 12),
    axis.title = element_text(face = "bold"),  # Bold axis titles
    panel.grid.major = element_line(color = "gray90"),  # Light grid lines
    panel.grid.minor = element_blank()  # Remove minor grid lines
  )
# Display the plot
print(population_distribution)

population_parameters <- airbnb |>
  summarize(mean_price = mean(price))
population_parameters


population_parameters <- airbnb |>
  summarize(mean_price = mean(price))
population_parameters

one_sample <- airbnb |>
  rep_sample_n(40)
one_sample
  
sample_distribution <- ggplot(one_sample, aes(price)) +
  geom_histogram(color = "lightgrey") +
  labs(x = "Price per night (dollars)", y = "Count") +
  theme(text = element_text(size = 12))
sample_distribution

estimates <- one_sample |>
  summarize(mean_price = mean(price))
estimates


samples <- rep_sample_n(airbnb, size = 40, reps = 20000)
samples

sample_estimates <- samples |>
  group_by(replicate) |>
  summarize(mean_price = mean(price))
sample_estimates


sampling_distribution_40 <- ggplot(sample_estimates, aes(x = mean_price)) +
  geom_histogram(color = "lightgrey") +
  labs(x = "Sample mean price per night (dollars)", y = "Count") +
  theme(text = element_text(size = 12))
sampling_distribution_40


# Assuming 'sample_estimates' is a data frame and it has a column named 'mean_price'
sampling_distribution_40 <- ggplot(sample_estimates, aes(x = mean_price)) +
  geom_histogram(color = "lightgrey", fill = "lightblue") +
  labs(x = "Sample mean price per night (dollars)", y = "Count") +
  theme(text = element_text(size = 12))
# Calculate the mean of the sample means
mean_of_means <- mean(sample_estimates$mean_price)
# Calculate the standard error (assuming you have a way to estimate it)
standard_error <- sd(sample_estimates$mean_price) # A rough estimate
# Choose a confidence level (e.g., 95%)
confidence_level <- 0.95
alpha <- 1 - confidence_level
# Calculate the margin of error using the z-distribution
z_critical <- qnorm(1 - alpha / 2)
margin_of_error <- z_critical * standard_error
# Calculate the confidence interval bounds
lower_bound <- mean_of_means - margin_of_error
upper_bound <- mean_of_means + margin_of_error
# Add a shaded region for the confidence interval with a softer color
sampling_distribution_40 <- sampling_distribution_40 +
  geom_rect(aes(xmin = lower_bound, xmax = upper_bound, ymin = 0, ymax = Inf),
            fill = "lightcoral", alpha = 0.3)
# Add a vertical line for the mean with a different color and make it dashed
sampling_distribution_40 <- sampling_distribution_40 +
  geom_vline(aes(xintercept = mean_of_means), color = "darkgreen", linetype = "dashed", linewidth = 1)
sampling_distribution_40


cat("\nSampling Process Summary:\n\n")
cat("- Center of sample means:", round(mean_of_means, 2), "dollars (dashed green line)\n")
cat("- Confidence level:", confidence_level * 100, "%\n")
cat("- Confidence interval:", round(lower_bound, 2), "dollars to", round(upper_bound, 2), "dollars (light coral area)\n")
cat("- Interpretation: Approx.", confidence_level * 100, "% of such intervals would contain the true population mean.\n\n\n")



